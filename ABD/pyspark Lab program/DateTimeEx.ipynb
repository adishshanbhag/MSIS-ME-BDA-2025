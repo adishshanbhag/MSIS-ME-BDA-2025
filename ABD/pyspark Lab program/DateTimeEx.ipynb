{
 "cells": [
  {
   "cell_type": "code",
   "execution_count": 2,
   "id": "56ab264c-6f63-4928-a8ff-041565548b06",
   "metadata": {},
   "outputs": [],
   "source": [
    "import pyspark\n",
    "from pyspark.sql import SparkSession\n",
    "spark = SparkSession.builder.appName('Date time').getOrCreate()"
   ]
  },
  {
   "cell_type": "code",
   "execution_count": 3,
   "id": "f0fd9793-8e74-45f0-b152-ab9b80ffe5c7",
   "metadata": {},
   "outputs": [],
   "source": [
    "import os\n",
    "os.environ['PYSPARK_PYTHON'] = \"C:/Users/Administrator/AppData/Local/Programs/Python/Python311/python.exe\"\n",
    "os.environ['PYSPARK_DRIVER_PYTHON'] = \"C:/Users/Administrator/AppData/Local/Programs/Python/Python311/python.exe\""
   ]
  },
  {
   "cell_type": "code",
   "execution_count": 4,
   "id": "a415c4fb-85e9-44e9-98e2-0fdd2bcb19d8",
   "metadata": {},
   "outputs": [],
   "source": [
    "from pyspark.sql.functions import *"
   ]
  },
  {
   "cell_type": "code",
   "execution_count": 5,
   "id": "c8da55f8-67bf-46ae-9b8f-b4f50704461b",
   "metadata": {},
   "outputs": [],
   "source": [
    "df = spark.range(5).withColumn('Today', current_date()).withColumn('Now', current_timestamp())"
   ]
  },
  {
   "cell_type": "code",
   "execution_count": 6,
   "id": "55ec43f9-566d-4391-8665-e67971488600",
   "metadata": {},
   "outputs": [
    {
     "name": "stdout",
     "output_type": "stream",
     "text": [
      "+---+----------+--------------------+\n",
      "| id|     Today|                 Now|\n",
      "+---+----------+--------------------+\n",
      "|  0|2025-10-16|2025-10-16 04:26:...|\n",
      "|  1|2025-10-16|2025-10-16 04:26:...|\n",
      "|  2|2025-10-16|2025-10-16 04:26:...|\n",
      "|  3|2025-10-16|2025-10-16 04:26:...|\n",
      "|  4|2025-10-16|2025-10-16 04:26:...|\n",
      "+---+----------+--------------------+\n",
      "\n"
     ]
    }
   ],
   "source": [
    "df.show()"
   ]
  },
  {
   "cell_type": "code",
   "execution_count": 8,
   "id": "9cbb19eb-f77c-4f3b-be5e-b38c4003837b",
   "metadata": {},
   "outputs": [
    {
     "name": "stdout",
     "output_type": "stream",
     "text": [
      "+---+----------+--------------------+----------+----------+\n",
      "| id|     Today|                 Now|  New Date| Prev Date|\n",
      "+---+----------+--------------------+----------+----------+\n",
      "|  0|2025-10-16|2025-10-16 04:35:...|2025-10-21|2025-10-11|\n",
      "|  1|2025-10-16|2025-10-16 04:35:...|2025-10-21|2025-10-11|\n",
      "|  2|2025-10-16|2025-10-16 04:35:...|2025-10-21|2025-10-11|\n",
      "|  3|2025-10-16|2025-10-16 04:35:...|2025-10-21|2025-10-11|\n",
      "|  4|2025-10-16|2025-10-16 04:35:...|2025-10-21|2025-10-11|\n",
      "+---+----------+--------------------+----------+----------+\n",
      "\n"
     ]
    }
   ],
   "source": [
    "df = df.withColumn('New Date', date_add('Today',5))\n",
    "df = df.withColumn('Prev Date', date_sub('Today',5))\n",
    "df.show()"
   ]
  },
  {
   "cell_type": "code",
   "execution_count": 10,
   "id": "c64da436-cc56-4701-98cb-da472adda083",
   "metadata": {},
   "outputs": [
    {
     "name": "stdout",
     "output_type": "stream",
     "text": [
      "+----------------------------------+\n",
      "|abs(datediff(Prev Date, New Date))|\n",
      "+----------------------------------+\n",
      "|                                10|\n",
      "|                                10|\n",
      "|                                10|\n",
      "|                                10|\n",
      "|                                10|\n",
      "+----------------------------------+\n",
      "\n"
     ]
    }
   ],
   "source": [
    "df.select(abs(datediff('Prev Date','New Date'))).show()"
   ]
  },
  {
   "cell_type": "code",
   "execution_count": 16,
   "id": "4b898594-8f0c-4e80-96d2-17a7543905d0",
   "metadata": {},
   "outputs": [
    {
     "name": "stdout",
     "output_type": "stream",
     "text": [
      "+---+----------+--------------------+----------+----------+-----------+-----------+\n",
      "| id|     Today|                 Now|  New Date| Prev Date|String Date|Proper Date|\n",
      "+---+----------+--------------------+----------+----------+-----------+-----------+\n",
      "|  0|2025-10-16|2025-10-16 04:42:...|2025-10-21|2025-10-11|21-Feb-2025| 2025-10-21|\n",
      "|  1|2025-10-16|2025-10-16 04:42:...|2025-10-21|2025-10-11|21-Feb-2025| 2025-10-21|\n",
      "|  2|2025-10-16|2025-10-16 04:42:...|2025-10-21|2025-10-11|21-Feb-2025| 2025-10-21|\n",
      "|  3|2025-10-16|2025-10-16 04:42:...|2025-10-21|2025-10-11|21-Feb-2025| 2025-10-21|\n",
      "|  4|2025-10-16|2025-10-16 04:42:...|2025-10-21|2025-10-11|21-Feb-2025| 2025-10-21|\n",
      "+---+----------+--------------------+----------+----------+-----------+-----------+\n",
      "\n"
     ]
    }
   ],
   "source": [
    "df = df.withColumn('String Date', lit('21-Feb-2025')) #lit = literal\n",
    "df.show()"
   ]
  },
  {
   "cell_type": "code",
   "execution_count": 12,
   "id": "703e22e0-c2ea-41fa-85f5-b7c91637d31b",
   "metadata": {},
   "outputs": [
    {
     "name": "stdout",
     "output_type": "stream",
     "text": [
      "root\n",
      " |-- id: long (nullable = false)\n",
      " |-- Today: date (nullable = false)\n",
      " |-- Now: timestamp (nullable = false)\n",
      " |-- New Date: date (nullable = false)\n",
      " |-- Prev Date: date (nullable = false)\n",
      " |-- String Date: string (nullable = false)\n",
      "\n"
     ]
    }
   ],
   "source": [
    "df.printSchema()"
   ]
  },
  {
   "cell_type": "code",
   "execution_count": 17,
   "id": "ea0c6bf8-4ffb-424a-b145-b8e8b347a75c",
   "metadata": {},
   "outputs": [
    {
     "name": "stdout",
     "output_type": "stream",
     "text": [
      "+---+----------+--------------------+----------+----------+-----------+-----------+\n",
      "| id|     Today|                 Now|  New Date| Prev Date|String Date|Proper Date|\n",
      "+---+----------+--------------------+----------+----------+-----------+-----------+\n",
      "|  0|2025-10-16|2025-10-16 04:42:...|2025-10-21|2025-10-11|21-Feb-2025| 2025-02-21|\n",
      "|  1|2025-10-16|2025-10-16 04:42:...|2025-10-21|2025-10-11|21-Feb-2025| 2025-02-21|\n",
      "|  2|2025-10-16|2025-10-16 04:42:...|2025-10-21|2025-10-11|21-Feb-2025| 2025-02-21|\n",
      "|  3|2025-10-16|2025-10-16 04:42:...|2025-10-21|2025-10-11|21-Feb-2025| 2025-02-21|\n",
      "|  4|2025-10-16|2025-10-16 04:42:...|2025-10-21|2025-10-11|21-Feb-2025| 2025-02-21|\n",
      "+---+----------+--------------------+----------+----------+-----------+-----------+\n",
      "\n"
     ]
    }
   ],
   "source": [
    "df = df.withColumn('Proper Date', to_date('String Date', 'dd-MMM-yyyy'))\n",
    "df.show()"
   ]
  },
  {
   "cell_type": "code",
   "execution_count": 15,
   "id": "d790150e-e545-4e70-b5d2-ca46b2cf2bab",
   "metadata": {},
   "outputs": [
    {
     "name": "stdout",
     "output_type": "stream",
     "text": [
      "root\n",
      " |-- id: long (nullable = false)\n",
      " |-- Today: date (nullable = false)\n",
      " |-- Now: timestamp (nullable = false)\n",
      " |-- New Date: date (nullable = false)\n",
      " |-- Prev Date: date (nullable = false)\n",
      " |-- String Date: string (nullable = false)\n",
      " |-- Proper Date: date (nullable = true)\n",
      "\n"
     ]
    }
   ],
   "source": [
    "df.printSchema()"
   ]
  },
  {
   "cell_type": "code",
   "execution_count": 19,
   "id": "062ba355-c85c-40e3-bd65-117756fed90c",
   "metadata": {},
   "outputs": [
    {
     "name": "stdout",
     "output_type": "stream",
     "text": [
      "+---+----------+--------------------+----------+----------+-----------+-----------+--------------+\n",
      "| id|     Today|                 Now|  New Date| Prev Date|String Date|Proper Date|Formatted Date|\n",
      "+---+----------+--------------------+----------+----------+-----------+-----------+--------------+\n",
      "|  0|2025-10-16|2025-10-16 04:44:...|2025-10-21|2025-10-11|21-Feb-2025| 2025-02-21|    21-02-2025|\n",
      "|  1|2025-10-16|2025-10-16 04:44:...|2025-10-21|2025-10-11|21-Feb-2025| 2025-02-21|    21-02-2025|\n",
      "|  2|2025-10-16|2025-10-16 04:44:...|2025-10-21|2025-10-11|21-Feb-2025| 2025-02-21|    21-02-2025|\n",
      "|  3|2025-10-16|2025-10-16 04:44:...|2025-10-21|2025-10-11|21-Feb-2025| 2025-02-21|    21-02-2025|\n",
      "|  4|2025-10-16|2025-10-16 04:44:...|2025-10-21|2025-10-11|21-Feb-2025| 2025-02-21|    21-02-2025|\n",
      "+---+----------+--------------------+----------+----------+-----------+-----------+--------------+\n",
      "\n"
     ]
    }
   ],
   "source": [
    "df = df.withColumn('Formatted Date', date_format(to_date('String Date', 'dd-MMM-yyyy'), 'dd-MM-yyyy'))\n",
    "df.show()"
   ]
  },
  {
   "cell_type": "code",
   "execution_count": 20,
   "id": "71979232-da45-4e95-9d13-b6f3646ba0f4",
   "metadata": {},
   "outputs": [
    {
     "name": "stdout",
     "output_type": "stream",
     "text": [
      "root\n",
      " |-- id: long (nullable = false)\n",
      " |-- Today: date (nullable = false)\n",
      " |-- Now: timestamp (nullable = false)\n",
      " |-- New Date: date (nullable = false)\n",
      " |-- Prev Date: date (nullable = false)\n",
      " |-- String Date: string (nullable = false)\n",
      " |-- Proper Date: date (nullable = true)\n",
      " |-- Formatted Date: string (nullable = true)\n",
      "\n"
     ]
    }
   ],
   "source": [
    "df.printSchema()"
   ]
  },
  {
   "cell_type": "code",
   "execution_count": 21,
   "id": "5ca0e0d2-7344-49a6-b145-093f51ee2c87",
   "metadata": {},
   "outputs": [
    {
     "name": "stdout",
     "output_type": "stream",
     "text": [
      "+----------------------------+\n",
      "|quarter(to_date(2025-10-12))|\n",
      "+----------------------------+\n",
      "|                           4|\n",
      "|                           4|\n",
      "|                           4|\n",
      "|                           4|\n",
      "|                           4|\n",
      "+----------------------------+\n",
      "\n"
     ]
    }
   ],
   "source": [
    "df.select(quarter(to_date(lit('2025-10-12')))).show()"
   ]
  },
  {
   "cell_type": "code",
   "execution_count": 22,
   "id": "41d28bea-871c-4ba7-a0c6-26b181d992f4",
   "metadata": {},
   "outputs": [
    {
     "name": "stdout",
     "output_type": "stream",
     "text": [
      "+--------------------------+\n",
      "|month(to_date(2025-10-12))|\n",
      "+--------------------------+\n",
      "|                        10|\n",
      "|                        10|\n",
      "|                        10|\n",
      "|                        10|\n",
      "|                        10|\n",
      "+--------------------------+\n",
      "\n"
     ]
    }
   ],
   "source": [
    "df.select(month(to_date(lit('2025-10-12')))).show()"
   ]
  },
  {
   "cell_type": "code",
   "execution_count": 23,
   "id": "3bfd3da4-87b6-4453-9bd2-29ad66f32d9c",
   "metadata": {},
   "outputs": [
    {
     "name": "stdout",
     "output_type": "stream",
     "text": [
      "+-------------------------+\n",
      "|year(to_date(2025-10-12))|\n",
      "+-------------------------+\n",
      "|                     2025|\n",
      "|                     2025|\n",
      "|                     2025|\n",
      "|                     2025|\n",
      "|                     2025|\n",
      "+-------------------------+\n",
      "\n"
     ]
    }
   ],
   "source": [
    "df.select(year(to_date(lit('2025-10-12')))).show()"
   ]
  },
  {
   "cell_type": "code",
   "execution_count": 24,
   "id": "997fa84a-8634-424c-bba9-2e28f1b145d3",
   "metadata": {},
   "outputs": [
    {
     "name": "stdout",
     "output_type": "stream",
     "text": [
      "+-------------------------------+\n",
      "|weekofyear(to_date(2025-10-12))|\n",
      "+-------------------------------+\n",
      "|                             41|\n",
      "|                             41|\n",
      "|                             41|\n",
      "|                             41|\n",
      "|                             41|\n",
      "+-------------------------------+\n",
      "\n"
     ]
    }
   ],
   "source": [
    "df.select(weekofyear(to_date(lit('2025-10-12')))).show()"
   ]
  }
 ],
 "metadata": {
  "kernelspec": {
   "display_name": "Python 3 (ipykernel)",
   "language": "python",
   "name": "python3"
  },
  "language_info": {
   "codemirror_mode": {
    "name": "ipython",
    "version": 3
   },
   "file_extension": ".py",
   "mimetype": "text/x-python",
   "name": "python",
   "nbconvert_exporter": "python",
   "pygments_lexer": "ipython3",
   "version": "3.11.4"
  }
 },
 "nbformat": 4,
 "nbformat_minor": 5
}
