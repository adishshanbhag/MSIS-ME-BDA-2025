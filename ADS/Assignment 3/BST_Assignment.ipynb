{
  "nbformat": 4,
  "nbformat_minor": 0,
  "metadata": {
    "colab": {
      "provenance": []
    },
    "kernelspec": {
      "name": "python3",
      "display_name": "Python 3"
    },
    "language_info": {
      "name": "python"
    }
  },
  "cells": [
    {
      "cell_type": "code",
      "source": [
        "from collections import deque\n",
        "\n",
        "class Node:\n",
        "    def __init__(self, key):\n",
        "        self.key = key\n",
        "        self.left = None\n",
        "        self.right = None\n",
        "\n",
        "class BST:\n",
        "    def __init__(self):\n",
        "        self.root = None\n",
        "\n",
        "    # Insert node\n",
        "    def insert(self, key):\n",
        "        if not self.root:\n",
        "            self.root = Node(key)\n",
        "        else:\n",
        "            self._insert(self.root, key)\n",
        "\n",
        "    def _insert(self, root, key):\n",
        "        if key < root.key:\n",
        "            if root.left:\n",
        "                self._insert(root.left, key)\n",
        "            else:\n",
        "                root.left = Node(key)\n",
        "        else:\n",
        "            if root.right:\n",
        "                self._insert(root.right, key)\n",
        "            else:\n",
        "                root.right = Node(key)\n",
        "\n",
        "    # Traversals\n",
        "    def inorder(self):\n",
        "        def _inorder(node):\n",
        "            if node:\n",
        "                _inorder(node.left)\n",
        "                print(node.key, end=\" \")\n",
        "                _inorder(node.right)\n",
        "        _inorder(self.root)\n",
        "\n",
        "    def preorder(self):\n",
        "        def _preorder(node):\n",
        "            if node:\n",
        "                print(node.key, end=\" \")\n",
        "                _preorder(node.left)\n",
        "                _preorder(node.right)\n",
        "        _preorder(self.root)\n",
        "\n",
        "    def postorder(self):\n",
        "        def _postorder(node):\n",
        "            if node:\n",
        "                _postorder(node.left)\n",
        "                _postorder(node.right)\n",
        "                print(node.key, end=\" \")\n",
        "        _postorder(self.root)\n",
        "\n",
        "    def level_order(self):\n",
        "        if not self.root:\n",
        "            return\n",
        "        q = deque([self.root])\n",
        "        while q:\n",
        "            node = q.popleft()\n",
        "            print(node.key, end=\" \")\n",
        "            if node.left:\n",
        "                q.append(node.left)\n",
        "            if node.right:\n",
        "                q.append(node.right)\n",
        "\n",
        "    # Count nodes\n",
        "    def count_nodes(self):\n",
        "        def _count(node):\n",
        "            if not node:\n",
        "                return 0\n",
        "            return 1 + _count(node.left) + _count(node.right)\n",
        "        return _count(self.root)\n",
        "\n",
        "    # Height\n",
        "    def height(self):\n",
        "        def _height(node):\n",
        "            if not node:\n",
        "                return 0\n",
        "            return 1 + max(_height(node.left), _height(node.right))\n",
        "        return _height(self.root)\n",
        "\n",
        "    # Leaf count\n",
        "    def count_leaves(self):\n",
        "        def _leaves(node):\n",
        "            if not node:\n",
        "                return 0\n",
        "            if not node.left and not node.right:\n",
        "                return 1\n",
        "            return _leaves(node.left) + _leaves(node.right)\n",
        "        return _leaves(self.root)\n"
      ],
      "metadata": {
        "id": "DpG_R_7wSukD"
      },
      "execution_count": 10,
      "outputs": []
    },
    {
      "cell_type": "code",
      "source": [
        "bst = BST()\n",
        "for val in [50, 30, 70, 20, 40, 60, 80]:\n",
        "    bst.insert(val)\n",
        "\n",
        "print(\"Inorder Traversal:\", end=\" \"); bst.inorder(); print()\n",
        "print(\"Preorder Traversal:\", end=\" \"); bst.preorder(); print()\n",
        "print(\"Postorder Traversal:\", end=\" \"); bst.postorder(); print()\n",
        "print(\"Level Order Traversal:\", end=\" \"); bst.level_order(); print()\n",
        "\n",
        "print(\"\\nCount of nodes:\", bst.count_nodes())\n",
        "print(\"Height:\", bst.height())\n",
        "print(\"Leaf nodes:\", bst.count_leaves())"
      ],
      "metadata": {
        "colab": {
          "base_uri": "https://localhost:8080/"
        },
        "id": "vOlawvaDVU-m",
        "outputId": "167b34dd-857e-43d9-f8d4-a290c78b551c"
      },
      "execution_count": 11,
      "outputs": [
        {
          "output_type": "stream",
          "name": "stdout",
          "text": [
            "Inorder Traversal: 20 30 40 50 60 70 80 \n",
            "Preorder Traversal: 50 30 20 40 70 60 80 \n",
            "Postorder Traversal: 20 40 30 60 80 70 50 \n",
            "Level Order Traversal: 50 30 70 20 40 60 80 \n",
            "\n",
            "Count of nodes: 7\n",
            "Height: 3\n",
            "Leaf nodes: 4\n"
          ]
        }
      ]
    },
    {
      "cell_type": "code",
      "source": [
        "class SizeNode:\n",
        "    def __init__(self, key):\n",
        "        self.key = key\n",
        "        self.left = None\n",
        "        self.right = None\n",
        "        self.size = 1\n",
        "\n",
        "class SizeBST:\n",
        "    def __init__(self):\n",
        "        self.root = None\n",
        "\n",
        "    def _update_size(self, node):\n",
        "        if node:\n",
        "            node.size = 1 + (node.left.size if node.left else 0) + (node.right.size if node.right else 0)\n",
        "\n",
        "    def insert(self, root, key):\n",
        "        if not root:\n",
        "            return SizeNode(key)\n",
        "        if key < root.key:\n",
        "            root.left = self.insert(root.left, key)\n",
        "        else:\n",
        "            root.right = self.insert(root.right, key)\n",
        "        self._update_size(root)\n",
        "        return root\n",
        "\n",
        "    def insert_node(self, key):\n",
        "        self.root = self.insert(self.root, key)\n",
        "\n",
        "\n",
        "bst = SizeBST()\n",
        "for val in [10, 5, 20, 15]:\n",
        "    bst.insert_node(val)\n",
        "\n",
        "print(\"Root:\", bst.root.key, \"Size:\", bst.root.size)\n",
        "print(\"Left child:\", bst.root.left.key, \"Size:\", bst.root.left.size)\n"
      ],
      "metadata": {
        "colab": {
          "base_uri": "https://localhost:8080/"
        },
        "id": "G0gExm6NVXfo",
        "outputId": "4598a2ac-39ea-4cff-9d23-95875ac2f1d4"
      },
      "execution_count": 12,
      "outputs": [
        {
          "output_type": "stream",
          "name": "stdout",
          "text": [
            "Root: 10 Size: 4\n",
            "Left child: 5 Size: 1\n"
          ]
        }
      ]
    },
    {
      "cell_type": "code",
      "source": [
        "class Event:\n",
        "    def __init__(self, datetime, name, guests, duration):\n",
        "        self.datetime = datetime\n",
        "        self.name = name\n",
        "        self.guests = guests\n",
        "        self.duration = duration\n",
        "        self.left = None\n",
        "        self.right = None\n",
        "\n",
        "class EventBST:\n",
        "    def __init__(self):\n",
        "        self.root = None\n",
        "\n",
        "    def insert(self, root, datetime, name, guests, duration):\n",
        "        if not root:\n",
        "            return Event(datetime, name, guests, duration)\n",
        "        if datetime < root.datetime:\n",
        "            root.left = self.insert(root.left, datetime, name, guests, duration)\n",
        "        else:\n",
        "            root.right = self.insert(root.right, datetime, name, guests, duration)\n",
        "        return root\n",
        "\n",
        "    def add_event(self, datetime, name, guests, duration):\n",
        "        if duration > 5:\n",
        "            print(\"Event duration exceeds 5 hours\")\n",
        "            return\n",
        "        self.root = self.insert(self.root, datetime, name, guests, duration)\n",
        "\n",
        "    def inorder_desc(self, root):\n",
        "        if root:\n",
        "            self.inorder_desc(root.right)\n",
        "            print(f\"Event: {root.name}, DateTime: {root.datetime}, Guests: {root.guests}, Duration: {root.duration}h\")\n",
        "            self.inorder_desc(root.left)\n",
        "\n",
        "    def cancel_event(self, root, datetime):\n",
        "        if not root:\n",
        "            return root\n",
        "        if datetime < root.datetime:\n",
        "            root.left = self.cancel_event(root.left, datetime)\n",
        "        elif datetime > root.datetime:\n",
        "            root.right = self.cancel_event(root.right, datetime)\n",
        "        else:\n",
        "            if not root.left:\n",
        "                return root.right\n",
        "            elif not root.right:\n",
        "                return root.left\n",
        "            temp = self._min_value(root.right)\n",
        "            root.datetime = temp.datetime\n",
        "            root.name, root.guests, root.duration = temp.name, temp.guests, temp.duration\n",
        "            root.right = self.cancel_event(root.right, temp.datetime)\n",
        "        return root\n",
        "\n",
        "    def _min_value(self, node):\n",
        "        while node.left:\n",
        "            node = node.left\n",
        "        return node\n",
        "\n",
        "\n",
        "events = EventBST()\n",
        "events.add_event(\"2025-09-15 10:00\", \"Conference\", 100, 3)\n",
        "events.add_event(\"2025-09-15 15:00\", \"Workshop\", 50, 4)\n",
        "\n",
        "print(\"\\nEvents (Descending by date):\")\n",
        "events.inorder_desc(events.root)\n",
        "\n",
        "events.root = events.cancel_event(events.root, \"2025-09-15 10:00\")\n",
        "print(\"\\nAfter cancellation:\")\n",
        "events.inorder_desc(events.root)\n"
      ],
      "metadata": {
        "colab": {
          "base_uri": "https://localhost:8080/"
        },
        "id": "QbGiJSXGV1Fy",
        "outputId": "5a05b0a1-0979-4566-845c-c74201c92cc6"
      },
      "execution_count": 13,
      "outputs": [
        {
          "output_type": "stream",
          "name": "stdout",
          "text": [
            "\n",
            "Events (Descending by date):\n",
            "Event: Workshop, DateTime: 2025-09-15 15:00, Guests: 50, Duration: 4h\n",
            "Event: Conference, DateTime: 2025-09-15 10:00, Guests: 100, Duration: 3h\n",
            "\n",
            "After cancellation:\n",
            "Event: Workshop, DateTime: 2025-09-15 15:00, Guests: 50, Duration: 4h\n"
          ]
        }
      ]
    },
    {
      "cell_type": "code",
      "source": [],
      "metadata": {
        "id": "pQ1c9wGoV62d"
      },
      "execution_count": null,
      "outputs": []
    }
  ]
}