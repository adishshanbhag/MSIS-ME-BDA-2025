{
 "cells": [
  {
   "cell_type": "code",
   "execution_count": 23,
   "id": "debc825a-8d89-4e46-b647-66188300d0ba",
   "metadata": {},
   "outputs": [],
   "source": [
    "import pyspark\n",
    "from pyspark.sql import SparkSession"
   ]
  },
  {
   "cell_type": "code",
   "execution_count": 24,
   "id": "5c4f8c41-20a4-4a24-b5ab-d9827c08a9a7",
   "metadata": {},
   "outputs": [],
   "source": [
    "import os\n",
    "os.environ['PYSPARK_PYTHON'] = \"C:/Users/Administrator/AppData/Local/Programs/Python/Python311/python.exe\"\n",
    "os.environ['PYSPARK_DRIVER_PYTHON'] = \"C:/Users/Administrator/AppData/Local/Programs/Python/Python311/python.exe\""
   ]
  },
  {
   "cell_type": "code",
   "execution_count": 25,
   "id": "f1e5adb4-b5dc-44d5-b4c5-92c87263a238",
   "metadata": {},
   "outputs": [],
   "source": [
    "from pyspark.sql.functions import *\n",
    "from pyspark.sql.types import *"
   ]
  },
  {
   "cell_type": "code",
   "execution_count": 26,
   "id": "3c5093df-0a4a-4acf-8e81-0c00ef095839",
   "metadata": {},
   "outputs": [],
   "source": [
    "spark = SparkSession.builder.appName('Examples').getOrCreate()"
   ]
  },
  {
   "cell_type": "code",
   "execution_count": 33,
   "id": "58c54ab8-055e-467b-b482-6cbbdfd926ed",
   "metadata": {},
   "outputs": [],
   "source": [
    "some_text = ['Hope all is well.', 'ABD and ADS classes are very boring','No real stuff','Only gas gas gas ....','and is are']\n",
    "parRdd = spark.sparkContext.parallelize(some_text)"
   ]
  },
  {
   "cell_type": "code",
   "execution_count": 34,
   "id": "5a6ebf22-802d-417d-83e9-aef93d54f749",
   "metadata": {},
   "outputs": [
    {
     "data": {
      "text/plain": [
       "['Hope',\n",
       " 'all',\n",
       " 'is',\n",
       " 'well.',\n",
       " 'ABD',\n",
       " 'and',\n",
       " 'ADS',\n",
       " 'classes',\n",
       " 'are',\n",
       " 'very',\n",
       " 'boring',\n",
       " 'No',\n",
       " 'real',\n",
       " 'stuff',\n",
       " 'Only',\n",
       " 'gas',\n",
       " 'gas',\n",
       " 'gas',\n",
       " '....',\n",
       " 'and',\n",
       " 'is',\n",
       " 'are']"
      ]
     },
     "execution_count": 34,
     "metadata": {},
     "output_type": "execute_result"
    }
   ],
   "source": [
    "parRdd.flatMap(lambda d : d.split(' ')).collect()"
   ]
  },
  {
   "cell_type": "code",
   "execution_count": null,
   "id": "7f2be5a5-ab91-4c06-b6d6-48f01fc9e8d6",
   "metadata": {},
   "outputs": [],
   "source": []
  }
 ],
 "metadata": {
  "kernelspec": {
   "display_name": "Python 3 (ipykernel)",
   "language": "python",
   "name": "python3"
  },
  "language_info": {
   "codemirror_mode": {
    "name": "ipython",
    "version": 3
   },
   "file_extension": ".py",
   "mimetype": "text/x-python",
   "name": "python",
   "nbconvert_exporter": "python",
   "pygments_lexer": "ipython3",
   "version": "3.11.4"
  }
 },
 "nbformat": 4,
 "nbformat_minor": 5
}
